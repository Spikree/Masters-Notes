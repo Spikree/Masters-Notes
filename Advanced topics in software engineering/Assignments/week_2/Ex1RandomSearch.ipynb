{
  "cells": [
    {
      "cell_type": "markdown",
      "id": "50212415",
      "metadata": {
        "id": "50212415"
      },
      "source": [
        "## First Practical Exercise - Random Search\n",
        "This is going to be the starting point for your implementation as it is relatively straightforward to do and other components will also make us of the functions we develop.\n",
        "\n",
        "There are 3 things needed:\n",
        "- A function that generates a random string of 1's and 0's of a length defined by the parameter provided to the function.\n",
        "- A fitness function that scores the string based on how good a solution it is. This will also be your fitness function used to evaluated the solutions and its neighbours in the hill climber. There are a few options about how you do this, but a way to approach it is to think about how you would identify the better solution from two random strings.\n",
        "- A function to use the above two functions to generate and evaluate multiple random candidated solutions. It will return the best one found and it's associated fitness."
      ]
    },
    {
      "cell_type": "markdown",
      "id": "93c23a8b",
      "metadata": {
        "id": "93c23a8b"
      },
      "source": [
        "### Constants and Imports\n",
        "We will need various constants such as the target string along with imports for the packages we are going to make use of."
      ]
    },
    {
      "cell_type": "code",
      "execution_count": 1,
      "id": "17537f99",
      "metadata": {
        "id": "17537f99"
      },
      "outputs": [],
      "source": [
        "import string\n",
        "import random\n",
        "random.seed(42) # initialse and make repeatable"
      ]
    },
    {
      "cell_type": "markdown",
      "id": "f9452f4f",
      "metadata": {
        "id": "f9452f4f"
      },
      "source": [
        "### Generate a Random Solution\n",
        "Create a random string of 1's and 0's of length defined in the parameter."
      ]
    },
    {
      "cell_type": "code",
      "execution_count": 2,
      "id": "a495a494",
      "metadata": {
        "colab": {
          "base_uri": "https://localhost:8080/"
        },
        "id": "a495a494",
        "outputId": "5c35d13c-827b-49ef-f966-4d426ed3ebe6"
      },
      "outputs": [
        {
          "output_type": "stream",
          "name": "stdout",
          "text": [
            "0\n",
            "01000\n",
            "0010000000\n"
          ]
        }
      ],
      "source": [
        "# Generate a random string of 1's and 0's as defined by the parameter\n",
        "# Input parameters: length - the length of the string to generate\n",
        "# Returns: The randomly generated string\n",
        "def gen_random_string(length):\n",
        "  return ''.join(random.choice('01') for _ in range(length))\n",
        "\n",
        "# test... run this a few times to check the output is as expected\n",
        "print(gen_random_string(1))\n",
        "print(gen_random_string(5))\n",
        "print(gen_random_string(10))\n"
      ]
    },
    {
      "cell_type": "markdown",
      "id": "e2dbac2a",
      "metadata": {
        "id": "e2dbac2a"
      },
      "source": [
        "### Fitness Function\n",
        "This defines how we score or evaluate a solution.\n",
        "The fitness function has an important role in guiding the search towards the solution (but not for the random search, obviously), so it is essential that we are able to identify when one solution is better than another.\n",
        "\n",
        "There are various alternatives but the more information you provide the quicker the search is likely to be."
      ]
    },
    {
      "cell_type": "code",
      "execution_count": 3,
      "id": "96d8cba4",
      "metadata": {
        "colab": {
          "base_uri": "https://localhost:8080/"
        },
        "id": "96d8cba4",
        "outputId": "802d1048-1c80-400f-ae07-18b394c2dab7"
      },
      "outputs": [
        {
          "output_type": "stream",
          "name": "stdout",
          "text": [
            "10\n",
            "5\n",
            "0\n",
            "5\n",
            "3\n",
            "0\n",
            "1\n",
            "0\n"
          ]
        }
      ],
      "source": [
        "# Function to calculate a candidates solution fitness - solutions closer to the goal should score higher\n",
        "# Input parameters: candidate solution\n",
        "# Returns: fitness of the candidate solution\n",
        "def fitness(solution):\n",
        "    # Your code goes here\n",
        "    return solution.count('1')\n",
        "\n",
        "# test the above (precise results will depend on your function and may vary with string length)\n",
        "print(fitness(\"1111111111\")) # output should be the highest score\n",
        "print(fitness(\"1010110010\")) # output should be a mid-range score\n",
        "print(fitness(\"0000000000\")) # output should be the lowest score\n",
        "print(fitness(\"11111\")) # output should be the highest score\n",
        "print(fitness(\"10101\")) # output should be a mid-range score\n",
        "print(fitness(\"00000\")) # output should be the lowest score\n",
        "print(fitness(\"1\")) # output should be the highest score\n",
        "print(fitness(\"0\")) # output should be the lowest score"
      ]
    },
    {
      "cell_type": "markdown",
      "id": "590caacf",
      "metadata": {
        "id": "590caacf"
      },
      "source": [
        "### Function to generate, evaluate and report on multiple random solutions\n",
        "The number of possible soutions to explore is input as a parameter. Solutions are generated (by calling get_random_string(...)) and a note is kept of the best scoring one (using the fitness function) and the average fitness of all solutions."
      ]
    },
    {
      "cell_type": "code",
      "execution_count": 5,
      "id": "1fd93b2f",
      "metadata": {
        "colab": {
          "base_uri": "https://localhost:8080/"
        },
        "id": "1fd93b2f",
        "outputId": "49ef0c00-da7d-45c9-ab50-c0d9cc3ebb8c"
      },
      "outputs": [
        {
          "output_type": "stream",
          "name": "stdout",
          "text": [
            "(5.1, '1011001110', 6)\n",
            "(5.15, '1111111111', 10)\n",
            "(5.027, '1111111111', 10)\n"
          ]
        }
      ],
      "source": [
        "# Input parameters: An integer designating the number of solutions to be generated and evaluated\n",
        "# Returns: A tuple with the the average fitness of all solutions, the best solution generated, and its fitness value\n",
        "def evaluate_random_solutions(target_number):\n",
        "    # Your code goes here\n",
        "    solution_length = 10\n",
        "\n",
        "    total_fitness = 0\n",
        "    best_solution = None\n",
        "    best_fitness = -1\n",
        "\n",
        "    for _ in range(target_number):\n",
        "      candidate_solution = gen_random_string(solution_length)\n",
        "\n",
        "      candidate_fitness = fitness(candidate_solution)\n",
        "\n",
        "      total_fitness += candidate_fitness\n",
        "\n",
        "      if candidate_fitness > best_fitness:\n",
        "            best_fitness = candidate_fitness\n",
        "            best_solution = candidate_solution\n",
        "\n",
        "    average_fitness = total_fitness / target_number\n",
        "\n",
        "    return (average_fitness, best_solution, best_fitness)\n",
        "\n",
        "# tests\n",
        "print(evaluate_random_solutions(10))\n",
        "print(evaluate_random_solutions(100))\n",
        "print(evaluate_random_solutions(1000))\n"
      ]
    }
  ],
  "metadata": {
    "kernelspec": {
      "display_name": "Python 3 (ipykernel)",
      "language": "python",
      "name": "python3"
    },
    "language_info": {
      "codemirror_mode": {
        "name": "ipython",
        "version": 3
      },
      "file_extension": ".py",
      "mimetype": "text/x-python",
      "name": "python",
      "nbconvert_exporter": "python",
      "pygments_lexer": "ipython3",
      "version": "3.11.5"
    },
    "colab": {
      "provenance": []
    }
  },
  "nbformat": 4,
  "nbformat_minor": 5
}