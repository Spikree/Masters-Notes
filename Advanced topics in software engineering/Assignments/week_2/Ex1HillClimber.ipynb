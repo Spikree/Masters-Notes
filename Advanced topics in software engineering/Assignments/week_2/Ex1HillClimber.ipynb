{
  "cells": [
    {
      "cell_type": "markdown",
      "id": "adf09a32",
      "metadata": {
        "id": "adf09a32"
      },
      "source": [
        "### Hill Climber\n",
        "The first few functions will be identical to the ones created for the Random Search.\n",
        "Only the neighbourhood and the main loop are new."
      ]
    },
    {
      "cell_type": "markdown",
      "id": "93c23a8b",
      "metadata": {
        "id": "93c23a8b"
      },
      "source": [
        "### Constants and Imports\n",
        "We will need various constants such as the target string along with imports for the packages we are going to make use of."
      ]
    },
    {
      "cell_type": "code",
      "execution_count": null,
      "id": "17537f99",
      "metadata": {
        "id": "17537f99"
      },
      "outputs": [
        {
          "ename": "",
          "evalue": "",
          "output_type": "error",
          "traceback": [
            "\u001b[1;31mRunning cells with 'Python 3.13.7' requires the ipykernel package.\n",
            "\u001b[1;31m<a href='command:jupyter.createPythonEnvAndSelectController'>Create a Python Environment</a> with the required packages.\n",
            "\u001b[1;31mOr install 'ipykernel' using the command: '/opt/homebrew/bin/python3 -m pip install ipykernel -U --user --force-reinstall'"
          ]
        }
      ],
      "source": [
        "import string\n",
        "import random\n",
        "random.seed(42) # initialse and make repeatable"
      ]
    },
    {
      "cell_type": "markdown",
      "id": "f9452f4f",
      "metadata": {
        "id": "f9452f4f"
      },
      "source": [
        "### Generate a Random Solution\n",
        "Create a random string of 1's and 0's of length defined in the parameter."
      ]
    },
    {
      "cell_type": "code",
      "execution_count": 2,
      "id": "a495a494",
      "metadata": {
        "colab": {
          "base_uri": "https://localhost:8080/"
        },
        "id": "a495a494",
        "outputId": "67648194-8bde-434f-d9bd-cefc96af8063"
      },
      "outputs": [
        {
          "name": "stdout",
          "output_type": "stream",
          "text": [
            "00100\n",
            "0001000000\n"
          ]
        }
      ],
      "source": [
        "# Generate a random string of 1's and 0's as defined by the parameter\n",
        "# Input parameters: length - the length of the string to generate\n",
        "# Returns: The randomly generated string\n",
        "def gen_random_string(length):\n",
        "  return ''.join(random.choice('01') for _ in range(length));\n",
        "\n",
        "\n",
        "\n",
        "\n",
        "\n",
        "# test... run this a few times to check the output is as expected\n",
        "# print(gen_random_string(1))\n",
        "print(gen_random_string(5))\n",
        "print(gen_random_string(10))"
      ]
    },
    {
      "cell_type": "markdown",
      "id": "e2dbac2a",
      "metadata": {
        "id": "e2dbac2a"
      },
      "source": [
        "### Fitness Function\n",
        "This defines how we score or evaluate a solution.\n",
        "The fitness function has an important role in guiding the search towards the solution (but not for the random search, obviously), so it is essential that we are able to identify when one solution is better than another.\n",
        "\n",
        "There are various alternatives but the more information you provide the quicker the search is likely to be.\n",
        "\n",
        "One important point to consider is the relationsip between the fitness function and the neighbourhood: a move in the the neighbourhood (either closer to or further away from the solution) should be reflected in the value of the fitness function. This is particularly important in the case of the hill climber as if there is no change seen in the neighbourhood then the algorithm cannot proceed and will terminate, assuming it has found the best solution."
      ]
    },
    {
      "cell_type": "code",
      "execution_count": 3,
      "id": "49144388-c56d-4007-8879-3f846cad7a12",
      "metadata": {
        "colab": {
          "base_uri": "https://localhost:8080/"
        },
        "id": "49144388-c56d-4007-8879-3f846cad7a12",
        "outputId": "e07ed21e-9fb6-4fd3-c9f8-b19624a63e75"
      },
      "outputs": [
        {
          "name": "stdout",
          "output_type": "stream",
          "text": [
            "10\n",
            "5\n",
            "0\n",
            "5\n",
            "3\n",
            "0\n",
            "1\n",
            "0\n"
          ]
        }
      ],
      "source": [
        "# Function to calculate a candidates solution fitness - solutions closer to the goal should score higher\n",
        "# Input parameters: candidate solution\n",
        "# Returns: fitness of the candidate solution\n",
        "def fitness(solution):\n",
        "  return solution.count('1')\n",
        "\n",
        "\n",
        "    # Your code goes here\n",
        "\n",
        "# test the above (precise results will depend on your function and may vary with string length)\n",
        "print(fitness(\"1111111111\")) # output should be the highest score\n",
        "print(fitness(\"1010110010\")) # output should be a mid-range score\n",
        "print(fitness(\"0000000000\")) # output should be the lowest score\n",
        "print(fitness(\"11111\")) # output should be the highest score\n",
        "print(fitness(\"10101\")) # output should be a mid-range score\n",
        "print(fitness(\"00000\")) # output should be the lowest score\n",
        "print(fitness(\"1\")) # output should be the highest score\n",
        "print(fitness(\"0\")) # output should be the lowest score"
      ]
    },
    {
      "cell_type": "markdown",
      "id": "590caacf",
      "metadata": {
        "id": "590caacf"
      },
      "source": [
        "### Function to generate the neighbours of the solution\n",
        "The current solution is input as a parameter and a list of neighours returned. There are several alternatives to defining the neighbourhood for this problem - some of which will move quite quickly towards the solution (but could be extensive and take time to evaluate), others are slightly slower (but may be cheaper and quicker to evaluate). Feel free to explore alternatives if you have time."
      ]
    },
    {
      "cell_type": "code",
      "execution_count": 4,
      "id": "edc013a8",
      "metadata": {
        "colab": {
          "base_uri": "https://localhost:8080/"
        },
        "id": "edc013a8",
        "outputId": "8710b5b7-6829-4df4-ef24-0caa463ba053"
      },
      "outputs": [
        {
          "data": {
            "text/plain": [
              "['00101', '11101', '10001', '10111', '10100']"
            ]
          },
          "execution_count": 4,
          "metadata": {},
          "output_type": "execute_result"
        }
      ],
      "source": [
        "# Input parameters: The current solution (as a string)\n",
        "# Returns: A list of the neighbours of the current solution\n",
        "def generate_neighbours(solution):\n",
        "    # Your code goes here\n",
        "    neighbours = []\n",
        "    current_length = len(solution)\n",
        "    for i in range(current_length):\n",
        "      if solution[i] == \"0\":\n",
        "        neighbours.append(solution[:i] + \"1\" + solution[i+1:])\n",
        "      else:\n",
        "        neighbours.append(solution[:i] + \"0\" + solution[i+1:])\n",
        "    return neighbours\n",
        "\n",
        "\n",
        "\n",
        "# test\n",
        "generate_neighbours(\"1\")\n",
        "generate_neighbours(\"0\")\n",
        "generate_neighbours(\"101\")\n",
        "generate_neighbours(\"100\")\n",
        "generate_neighbours(\"001\")\n",
        "generate_neighbours(\"10101\")\n"
      ]
    },
    {
      "cell_type": "markdown",
      "id": "00a2cb5b-ad29-4668-ae00-86081622da24",
      "metadata": {
        "id": "00a2cb5b-ad29-4668-ae00-86081622da24"
      },
      "source": [
        "### Main Hill Climber Loop\n",
        "The basic loop of an algorithm is as follows:\n",
        "- Generate a random solution as the current solution\n",
        "- Loop\n",
        "    - Identify and evaluate the neighbours of the current solution\n",
        "    - Set the current solution to be a fitter solution (there are different possible ascent strategies)\n",
        "- Until no fitter solution can be identified\n",
        "- Return the current solution\n",
        "\n",
        "Depending on he approach you adopt you may or may not need a random restart for this problem."
      ]
    },
    {
      "cell_type": "code",
      "execution_count": 22,
      "id": "1fd93b2f",
      "metadata": {
        "colab": {
          "base_uri": "https://localhost:8080/"
        },
        "id": "1fd93b2f",
        "outputId": "ecc2ae1a-f020-43f6-eb9e-dad5cf954dae"
      },
      "outputs": [
        {
          "name": "stdout",
          "output_type": "stream",
          "text": [
            "Start Solution: '00100000000010011001' | Fitness: 5\n",
            "Step: 10100000000010011001 | Fitness: 6\n",
            "Step: 11100000000010011001 | Fitness: 7\n",
            "Step: 11110000000010011001 | Fitness: 8\n",
            "Step: 11111000000010011001 | Fitness: 9\n",
            "Step: 11111100000010011001 | Fitness: 10\n",
            "Step: 11111110000010011001 | Fitness: 11\n",
            "Step: 11111111000010011001 | Fitness: 12\n",
            "Step: 11111111100010011001 | Fitness: 13\n",
            "Step: 11111111110010011001 | Fitness: 14\n",
            "Step: 11111111111010011001 | Fitness: 15\n",
            "Step: 11111111111110011001 | Fitness: 16\n",
            "Step: 11111111111111011001 | Fitness: 17\n",
            "Step: 11111111111111111001 | Fitness: 18\n",
            "Step: 11111111111111111101 | Fitness: 19\n",
            "Step: 11111111111111111111 | Fitness: 20\n",
            "Optimam solution reached\n"
          ]
        },
        {
          "data": {
            "text/plain": [
              "('11111111111111111111', 20)"
            ]
          },
          "execution_count": 22,
          "metadata": {},
          "output_type": "execute_result"
        }
      ],
      "source": [
        "# Input parameters: The length of the string to be \"maxed\"\n",
        "# Returns: A tuple with the best solution generated and its fitness value\n",
        "# Note that it can be helpful to also print out the intermediate values of the solution\n",
        "# and its fitness so that it is possible to see how the search is progessing\n",
        "def hill_climber(length):\n",
        "    current_solution = gen_random_string(length)\n",
        "    current_fitness = fitness(current_solution)\n",
        "\n",
        "    print(f\"Start Solution: '{current_solution}' | Fitness: {current_fitness}\")\n",
        "\n",
        "    while True:\n",
        "        neighbours = generate_neighbours(current_solution)\n",
        "\n",
        "        best_neighbour = None\n",
        "        best_neighbour_fitness = current_fitness\n",
        "\n",
        "        for neighbour in neighbours:\n",
        "            neighbour_fitness = fitness(neighbour)\n",
        "\n",
        "            if neighbour_fitness > best_neighbour_fitness:\n",
        "                best_neighbour_fitness = neighbour_fitness\n",
        "                best_neighbour = neighbour\n",
        "\n",
        "        if best_neighbour_fitness > current_fitness:\n",
        "            current_solution = best_neighbour\n",
        "            current_fitness = best_neighbour_fitness\n",
        "            print(f\"Step: {current_solution} | Fitness: {current_fitness}\")\n",
        "        else:\n",
        "            print(\"Optimam solution reached\")\n",
        "            return (current_solution, current_fitness)\n",
        "\n",
        "# tests\n",
        "hill_climber(20)"
      ]
    }
  ],
  "metadata": {
    "colab": {
      "provenance": []
    },
    "kernelspec": {
      "display_name": "Python 3",
      "language": "python",
      "name": "python3"
    },
    "language_info": {
      "codemirror_mode": {
        "name": "ipython",
        "version": 3
      },
      "file_extension": ".py",
      "mimetype": "text/x-python",
      "name": "python",
      "nbconvert_exporter": "python",
      "pygments_lexer": "ipython3",
      "version": "3.13.7"
    }
  },
  "nbformat": 4,
  "nbformat_minor": 5
}
